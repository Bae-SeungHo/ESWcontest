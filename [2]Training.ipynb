{
 "cells": [
  {
   "cell_type": "markdown",
   "id": "c8367e50-22aa-45f0-9ba1-a2da9ea1e4c1",
   "metadata": {},
   "source": [
    "## ![Logo](http://eswcontest.or.kr/images/openImg.jpg) \n",
    "## [제19회 임베디드 소프트웨어 경진대회] __양치의 정석__ :: Training Program"
   ]
  },
  {
   "cell_type": "markdown",
   "id": "f7338c87-5660-4b2c-b226-a90c66184196",
   "metadata": {},
   "source": [
    "## Library Load\n",
    "***"
   ]
  },
  {
   "cell_type": "code",
   "execution_count": null,
   "id": "ccb44ac1-82d6-4833-bf8b-e87a5d0f3136",
   "metadata": {},
   "outputs": [],
   "source": [
    "import numpy as np\n",
    "import tensorflow as tf\n",
    "import tensorflow.keras.layers as tl\n",
    "from tensorflow.keras.models import Sequential\n",
    "from tensorflow.keras.callbacks import EarlyStopping\n",
    "import pandas as pd\n",
    "from sklearn.model_selection import train_test_split\n",
    "import os"
   ]
  },
  {
   "cell_type": "markdown",
   "id": "8b412eec-75a1-4abf-830b-a2cc02caabd7",
   "metadata": {},
   "source": [
    "## Init & Parameter\n",
    "***"
   ]
  },
  {
   "cell_type": "code",
   "execution_count": null,
   "id": "82858554-4401-4c54-8fd9-36b264f134cd",
   "metadata": {},
   "outputs": [],
   "source": [
    "seq_length = 60\n",
    "secs_for_action = 60\n",
    "is_missing = False\n",
    "early_stopping = EarlyStopping(patience = 40)"
   ]
  },
  {
   "cell_type": "code",
   "execution_count": null,
   "id": "9a7b4fa4-c30c-442f-87ef-719e7622ec83",
   "metadata": {},
   "outputs": [],
   "source": [
    "Hand = ['Left','Right']\n",
    "Options = ['None','Vertical','Horizontal','LU','RU','LD','RD','LU_in','RU_in','LD_in','RD_in']\n",
    "L_hands = []\n",
    "L_mouths = []\n",
    "R_hands = []\n",
    "R_mouths = []"
   ]
  },
  {
   "cell_type": "markdown",
   "id": "017b5213-3626-499b-85ea-220c44c36177",
   "metadata": {},
   "source": [
    "## Function\n",
    "***"
   ]
  },
  {
   "cell_type": "code",
   "execution_count": null,
   "id": "ad723910-0280-41c0-8053-ea4e724c8d73",
   "metadata": {},
   "outputs": [],
   "source": [
    "def Sequence(args):\n",
    "    full_seq_data = []\n",
    "    for seq in range(len(args) - seq_length):\n",
    "        full_seq_data.append(args[seq:seq + seq_length])\n",
    "    full_seq_data = np.array(full_seq_data)\n",
    "    return full_seq_data"
   ]
  },
  {
   "cell_type": "markdown",
   "id": "62782202-44b7-4401-b7ec-5693b8224943",
   "metadata": {},
   "source": [
    "## Training\n",
    "***"
   ]
  },
  {
   "cell_type": "code",
   "execution_count": null,
   "id": "9b1234bb-a94b-4c21-9269-4f3ab6c26b77",
   "metadata": {
    "tags": []
   },
   "outputs": [],
   "source": [
    "print('::Training Program Start!::')\n",
    "for hand in Hand:\n",
    "    if hand == 'Left':\n",
    "        for option in Options:\n",
    "            if os.path.isfile('Datasets/Left_%s.npy' % (option)):\n",
    "                L_hands.append(np.load('Datasets/Left_%s.npy' % (option)))\n",
    "            else:\n",
    "                print('{} Dataset are Missing!...'.format(option))\n",
    "                is_missing = True\n",
    "                break\n",
    "        if is_missing:\n",
    "            break\n",
    "            \n",
    "        None_ = np.array(L_hands[0])\n",
    "        V_ = np.array(L_hands[1])\n",
    "        H_ = np.array(L_hands[2])\n",
    "        LU_ = np.array(L_hands[3])\n",
    "        RU_ = np.array(L_hands[4])\n",
    "        LD_ = np.array(L_hands[5])\n",
    "        RD_ = np.array(L_hands[6])\n",
    "        LU_in_ = np.array(L_hands[7])\n",
    "        RU_in_ = np.array(L_hands[8])\n",
    "        LD_in_ = np.array(L_hands[9])\n",
    "        RD_in_ = np.array(L_hands[10])\n",
    "        \n",
    "    else: # hand is Right\n",
    "        \n",
    "        for option in Options:\n",
    "            if os.path.isfile('Datasets/Right_%s.npy' % (option)):\n",
    "                R_hands.append(np.load('Datasets/Right_%s.npy' % (option)))\n",
    "            else:\n",
    "                print('{} Dataset are Missing!...'.format(option))\n",
    "                is_missing = True\n",
    "        if is_missing:\n",
    "            break\n",
    "            \n",
    "        None_ = np.array(R_hands[0])\n",
    "        V_ = np.array(R_hands[1])\n",
    "        H_ = np.array(R_hands[2])\n",
    "        LU_ = np.array(R_hands[3])\n",
    "        RU_ = np.array(R_hands[4])\n",
    "        LD_ = np.array(R_hands[5])\n",
    "        RD_ = np.array(R_hands[6])\n",
    "        LU_in_ = np.array(R_hands[7])\n",
    "        RU_in_ = np.array(R_hands[8])\n",
    "        LD_in_ = np.array(R_hands[9])\n",
    "        RD_in_ = np.array(R_hands[10])\n",
    "        \n",
    "    #hand if end\n",
    "    \n",
    "    None_ = Sequence(None_)\n",
    "    V_ = Sequence(V_)\n",
    "    H_ =Sequence(H_)\n",
    "    LU_ = Sequence(LU_)\n",
    "    RU_ = Sequence(RU_)\n",
    "    LD_ = Sequence(LD_)\n",
    "    RD_ = Sequence(RD_)\n",
    "    LU_in_ = Sequence(LU_in_)\n",
    "    RU_in_ = Sequence(RU_in_)\n",
    "    LD_in_ = Sequence(LD_in_)\n",
    "    RD_in_ = Sequence(RD_in_)\n",
    "\n",
    "    if hand == 'Left':\n",
    "        X = np.vstack((None_,V_,H_,LU_,RU_,LD_,RD_,LU_in_,RU_in_,LD_in_,RD_in_)).reshape([-1,seq_length,108])\n",
    "        Y = np.zeros((L_hands[0]).shape[0]-seq_length)\n",
    "        for i in range(1,len(L_hands)):\n",
    "            Y = np.hstack((Y,np.ones(np.array(L_hands[i]).shape[0]-seq_length) * i))\n",
    "        Y = pd.get_dummies(Y)\n",
    "    else:\n",
    "        X = np.vstack((None_,V_,H_,LU_,RU_,LD_,RD_,LU_in_,RU_in_,LD_in_,RD_in_)).reshape([-1,seq_length,108])\n",
    "        Y = np.zeros((R_hands[0]).shape[0]-seq_length)\n",
    "        for i in range(1,len(R_hands)):\n",
    "            Y = np.hstack((Y,np.ones(np.array(R_hands[i]).shape[0]-seq_length) * i))\n",
    "        Y = pd.get_dummies(Y)\n",
    "    \n",
    "    print('{} X shape : {} , Y shape : {}'.format(hand,X.shape , Y.shape))\n",
    "    \n",
    "    x,x_test,y,y_test = train_test_split(X,Y,test_size=0.2,random_state=8014)\n",
    "    \n",
    "    \n",
    "    model = Sequential()\n",
    "    model.add(tl.LSTM(64,activation='relu',input_shape=X.shape[1:3]))\n",
    "    model.add(tl.Dense(32,activation='relu'))\n",
    "    model.add(tl.Dense(Y.shape[1],activation='softmax'))\n",
    "    \n",
    "    model.compile('adam','categorical_crossentropy','accuracy')\n",
    "    \n",
    "    model.fit(x,y,validation_data=(x_test,y_test),epochs=100,callbacks=[early_stopping])\n",
    "    \n",
    "    os.makedirs('Model/',exist_ok=True)\n",
    "    model.save('Model/{}_model.h5'.format(hand))\n",
    "    print('%s Model Saved at Model/%s_model.h5' % (hand,hand))\n",
    "    \n",
    "    "
   ]
  }
 ],
 "metadata": {
  "kernelspec": {
   "display_name": "Python 3",
   "language": "python",
   "name": "python3"
  },
  "language_info": {
   "codemirror_mode": {
    "name": "ipython",
    "version": 3
   },
   "file_extension": ".py",
   "mimetype": "text/x-python",
   "name": "python",
   "nbconvert_exporter": "python",
   "pygments_lexer": "ipython3",
   "version": "3.6.13"
  }
 },
 "nbformat": 4,
 "nbformat_minor": 5
}
